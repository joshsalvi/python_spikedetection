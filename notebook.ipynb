{
 "cells": [
  {
   "cell_type": "markdown",
   "metadata": {},
   "source": [
    "# Spike Detection Algorithm"
   ]
  },
  {
   "cell_type": "markdown",
   "metadata": {},
   "source": []
  },
  {
   "cell_type": "markdown",
   "metadata": {},
   "source": [
    "#### This notebook describes a peak-detection algorithm for the analysis of neural data. We will first need to import our dependencies.   \"SDfunctions.py\" includes any custom functions required for this code."
   ]
  },
  {
   "cell_type": "code",
   "execution_count": 1,
   "metadata": {
    "collapsed": true
   },
   "outputs": [],
   "source": [
    "import SDfunctions\n",
    "import matplotlib.pyplot as plt\n",
    "import numpy"
   ]
  },
  {
   "cell_type": "markdown",
   "metadata": {},
   "source": [
    "#### We will now define a class called SpikeData. Initialization of the SpikeData class imports neural data extracted from an EDR file. The columns correspond to time, voltage, and various stimuli. Import requires the function SDfunctions.read_spike_train."
   ]
  },
  {
   "cell_type": "code",
   "execution_count": 2,
   "metadata": {
    "collapsed": true
   },
   "outputs": [],
   "source": [
    "class SpikeData:\n",
    "\n",
    "    def __init__(self, file):\n",
    "\n",
    "        self.time, self.voltage, self.lightstim, self.drugstim = SDfunctions.read_spike_train(file)"
   ]
  },
  {
   "cell_type": "markdown",
   "metadata": {},
   "source": [
    "#### Let's initialize the SpikeData class and see how this works."
   ]
  },
  {
   "cell_type": "code",
   "execution_count": 3,
   "metadata": {
    "collapsed": false
   },
   "outputs": [
    {
     "name": "stdout",
     "output_type": "stream",
     "text": [
      "The voltage at time 1 is -1\n"
     ]
    }
   ],
   "source": [
    "sd = SpikeData('data2.txt')\n",
    "print ('The voltage at time ' '%d' ' is ' '%d')%(sd.time[100],sd.voltage[100])"
   ]
  },
  {
   "cell_type": "markdown",
   "metadata": {},
   "source": [
    "#### We will now expand upon this by adding a plotting method to the SpikeData class."
   ]
  },
  {
   "cell_type": "code",
   "execution_count": null,
   "metadata": {
    "collapsed": true
   },
   "outputs": [],
   "source": [
    "class SpikeData:\n",
    "\n",
    "    def __init__(self, file):\n",
    "\n",
    "        self.time, self.voltage, self.lightstim, self.drugstim = SDfunctions.read_spike_train(file)\n",
    "\n",
    "\n",
    "    def plotdata(self):\n",
    "\n",
    "        # Set up figure and plot the spikes and stimuli with appropriate legends\n",
    "        plt.clf()\n",
    "        f, axarr = plt.subplots(2, sharex=True)\n",
    "        axarr[1].plot(self.time, self.voltage)\n",
    "        axarr[1].set_ylim([-10,10])\n",
    "        plt.xlabel('Voltage (mV)')\n",
    "        axarr[1].legend(['spike trace'])\n",
    "        axarr[0].plot(self.time, self.lightstim, 'b', self.time, self.drugstim, 'r')\n",
    "        axarr[0].legend([\"light stimulus\", \"acetylcholine\"])\n",
    "        plt.xlabel('Voltage (mV)')\n",
    "        axarr[0].set_ylim([1,4])\n",
    "        plt.draw()\n",
    "        plt.show()\n",
    "\n",
    "        return"
   ]
  },
  {
   "cell_type": "markdown",
   "metadata": {},
   "source": [
    "#### Let's take a look at how this works."
   ]
  },
  {
   "cell_type": "code",
   "execution_count": null,
   "metadata": {
    "collapsed": true
   },
   "outputs": [],
   "source": [
    "sd = SpikeData('data2.txt')\n",
    "sd.plotdata()"
   ]
  },
  {
   "cell_type": "code",
   "execution_count": null,
   "metadata": {
    "collapsed": true
   },
   "outputs": [],
   "source": []
  }
 ],
 "metadata": {
  "kernelspec": {
   "display_name": "Python 2",
   "language": "python",
   "name": "python2"
  },
  "language_info": {
   "codemirror_mode": {
    "name": "ipython",
    "version": 2
   },
   "file_extension": ".py",
   "mimetype": "text/x-python",
   "name": "python",
   "nbconvert_exporter": "python",
   "pygments_lexer": "ipython2",
   "version": "2.7.10"
  }
 },
 "nbformat": 4,
 "nbformat_minor": 0
}
